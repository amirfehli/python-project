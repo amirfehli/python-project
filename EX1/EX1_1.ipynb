{
 "cells": [
  {
   "cell_type": "code",
   "execution_count": 1,
   "id": "22e9d6fc",
   "metadata": {},
   "outputs": [],
   "source": [
    "#EX1 num +1\n",
    "\n",
    "def Num1(num):\n",
    "    '''\n",
    "    (int) -> int\n",
    "     Get a number and +1 and then return it.\n",
    "\n",
    "     example:\n",
    "     >> ex1(1)\n",
    "     2\n",
    "    '''\n",
    "    result= num + 1\n",
    "    return(result)"
   ]
  },
  {
   "cell_type": "code",
   "execution_count": 2,
   "id": "10487dda",
   "metadata": {},
   "outputs": [
    {
     "data": {
      "text/plain": [
       "5.5"
      ]
     },
     "execution_count": 2,
     "metadata": {},
     "output_type": "execute_result"
    }
   ],
   "source": [
    "Num1(4.5)"
   ]
  }
 ],
 "metadata": {
  "kernelspec": {
   "display_name": "Python 3 (ipykernel)",
   "language": "python",
   "name": "python3"
  },
  "language_info": {
   "codemirror_mode": {
    "name": "ipython",
    "version": 3
   },
   "file_extension": ".py",
   "mimetype": "text/x-python",
   "name": "python",
   "nbconvert_exporter": "python",
   "pygments_lexer": "ipython3",
   "version": "3.9.13"
  }
 },
 "nbformat": 4,
 "nbformat_minor": 5
}
