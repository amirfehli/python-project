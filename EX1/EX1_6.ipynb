{
 "cells": [
  {
   "cell_type": "code",
   "execution_count": 20,
   "id": "29504ffb",
   "metadata": {},
   "outputs": [],
   "source": [
    "#Roman Numerals \n",
    "\n",
    "def Roman(num):\n",
    "    '''\n",
    "    (int) -> str\n",
    "    takes number and returns Roman Numerals:\n",
    "    I, II, III, IV, V, VI, VII...\n",
    "    \n",
    "    example:\n",
    "    >>> Roman(2)\n",
    "    II\n",
    "    '''\n",
    "    if num == 1:\n",
    "        result = \"I\"\n",
    "    elif num == 2:\n",
    "        result = \"II\"\n",
    "    elif num == 3:\n",
    "        result = \"III\"\n",
    "    elif num == 4:\n",
    "        result = \"IV\"\n",
    "    elif num == 5:\n",
    "        result = \"V\"\n",
    "    elif num == 6:\n",
    "        result = \"VI\"\n",
    "    elif num == 7:\n",
    "        result = \"VII\"\n",
    "    elif num == 8:\n",
    "        result = \"VIII\"\n",
    "    elif num == 9:\n",
    "        result = \"IX\"\n",
    "    elif num == 10:\n",
    "        result = \"X\"\n",
    "    else:\n",
    "        result = \"Error: Undefined\"\n",
    "    return(result)\n",
    "       \n",
    "        "
   ]
  },
  {
   "cell_type": "code",
   "execution_count": 21,
   "id": "b4dc09f4",
   "metadata": {},
   "outputs": [
    {
     "data": {
      "text/plain": [
       "'VIII'"
      ]
     },
     "execution_count": 21,
     "metadata": {},
     "output_type": "execute_result"
    }
   ],
   "source": [
    "Roman(8)"
   ]
  },
  {
   "cell_type": "code",
   "execution_count": null,
   "id": "cb1a903e",
   "metadata": {},
   "outputs": [],
   "source": []
  }
 ],
 "metadata": {
  "kernelspec": {
   "display_name": "Python 3 (ipykernel)",
   "language": "python",
   "name": "python3"
  },
  "language_info": {
   "codemirror_mode": {
    "name": "ipython",
    "version": 3
   },
   "file_extension": ".py",
   "mimetype": "text/x-python",
   "name": "python",
   "nbconvert_exporter": "python",
   "pygments_lexer": "ipython3",
   "version": "3.9.13"
  }
 },
 "nbformat": 4,
 "nbformat_minor": 5
}
