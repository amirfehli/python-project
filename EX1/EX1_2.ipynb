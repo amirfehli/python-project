{
 "cells": [
  {
   "cell_type": "code",
   "execution_count": 3,
   "id": "de9aaaa1",
   "metadata": {},
   "outputs": [],
   "source": [
    "#Maximum Edge of a Triangle \n",
    "\n",
    "def Meot(side1,side2):\n",
    "    '''\n",
    "    (int) -> int\n",
    "    You can import 2 sides and take third side of triangel.\n",
    "    \n",
    "    example:\n",
    "    >>>Meot(3,4)\n",
    "    6\n",
    "    '''\n",
    "    #rah hali baraye manfi nabodan peyda nashod be joz <if> va rah estefade ham peyda nashod\n",
    "    side3 = (side1 + side2) - 1\n",
    "    return(side3)"
   ]
  },
  {
   "cell_type": "code",
   "execution_count": 4,
   "id": "00d4c6f4",
   "metadata": {},
   "outputs": [
    {
     "data": {
      "text/plain": [
       "16.0"
      ]
     },
     "execution_count": 4,
     "metadata": {},
     "output_type": "execute_result"
    }
   ],
   "source": [
    "Meot(4,3)"
   ]
  }
 ],
 "metadata": {
  "kernelspec": {
   "display_name": "Python 3 (ipykernel)",
   "language": "python",
   "name": "python3"
  },
  "language_info": {
   "codemirror_mode": {
    "name": "ipython",
    "version": 3
   },
   "file_extension": ".py",
   "mimetype": "text/x-python",
   "name": "python",
   "nbconvert_exporter": "python",
   "pygments_lexer": "ipython3",
   "version": "3.9.13"
  }
 },
 "nbformat": 4,
 "nbformat_minor": 5
}
