{
 "cells": [
  {
   "cell_type": "code",
   "execution_count": 16,
   "id": "307d3814",
   "metadata": {},
   "outputs": [],
   "source": [
    "#Day of the Week\n",
    "\n",
    "def Days(num):\n",
    "    '''\n",
    "    (int) -> str\n",
    "    Takes a number and returns the day of the week.\n",
    "    \n",
    "    example:\n",
    "    >>>Days(1)\n",
    "    Monday\n",
    "    '''\n",
    "    if num == 1:\n",
    "        result = \"Monday\"\n",
    "    elif num == 2:\n",
    "        result = \"Tuesday\"\n",
    "    elif num == 3:\n",
    "        result = \"Wednesday\"\n",
    "    elif num == 4:\n",
    "        result = \"Thursday\"\n",
    "    elif num == 5:\n",
    "        result = \"Friday\"\n",
    "    elif num == 6:\n",
    "        result = \"Saturday\"\n",
    "    elif num == 7:\n",
    "        result = \"Sunday\"\n",
    "    elif num > 7:\n",
    "        result = \"Error:The week has seven days\"\n",
    "        \n",
    "    return(result)\n",
    "    \n",
    "    "
   ]
  },
  {
   "cell_type": "code",
   "execution_count": 17,
   "id": "a764b7b3",
   "metadata": {},
   "outputs": [
    {
     "data": {
      "text/plain": [
       "'Sunday'"
      ]
     },
     "execution_count": 17,
     "metadata": {},
     "output_type": "execute_result"
    }
   ],
   "source": [
    "Days(7)"
   ]
  }
 ],
 "metadata": {
  "kernelspec": {
   "display_name": "Python 3 (ipykernel)",
   "language": "python",
   "name": "python3"
  },
  "language_info": {
   "codemirror_mode": {
    "name": "ipython",
    "version": 3
   },
   "file_extension": ".py",
   "mimetype": "text/x-python",
   "name": "python",
   "nbconvert_exporter": "python",
   "pygments_lexer": "ipython3",
   "version": "3.9.13"
  }
 },
 "nbformat": 4,
 "nbformat_minor": 5
}
