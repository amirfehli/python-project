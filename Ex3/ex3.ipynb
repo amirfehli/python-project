{
 "cells": [
  {
   "cell_type": "code",
   "execution_count": 44,
   "metadata": {},
   "outputs": [],
   "source": [
    "### Mohammad Hossein Fehli #4013333327  \n",
    "\n",
    "#   EX3-1\n",
    "def collatz(n):\n",
    "    '''\n",
    "    '''\n",
    "    list1=[n]\n",
    "    while n != 1:\n",
    "        if n % 2 == 0:\n",
    "            n = int(n / 2)\n",
    "        else:\n",
    "            n = int(n*3+1)\n",
    "        list1.append(n)\n",
    "    \n",
    "    print((\"steps :\"),len(list1))\n",
    "    return list1"
   ]
  },
  {
   "cell_type": "code",
   "execution_count": 45,
   "metadata": {},
   "outputs": [
    {
     "name": "stdout",
     "output_type": "stream",
     "text": [
      "steps : 5\n"
     ]
    },
    {
     "data": {
      "text/plain": [
       "[16, 8, 4, 2, 1]"
      ]
     },
     "execution_count": 45,
     "metadata": {},
     "output_type": "execute_result"
    }
   ],
   "source": [
    "collatz(16)"
   ]
  },
  {
   "cell_type": "code",
   "execution_count": 56,
   "metadata": {},
   "outputs": [],
   "source": [
    "#EX3-2\n",
    "def product(list1):\n",
    "    return max(a*b for a, b in zip(list1 , list1[1:]))\n"
   ]
  },
  {
   "cell_type": "code",
   "execution_count": 57,
   "metadata": {},
   "outputs": [
    {
     "data": {
      "text/plain": [
       "21"
      ]
     },
     "execution_count": 57,
     "metadata": {},
     "output_type": "execute_result"
    }
   ],
   "source": [
    "product([3, 6, -2, -5, 7, 3])\n"
   ]
  },
  {
   "cell_type": "code",
   "execution_count": 28,
   "metadata": {},
   "outputs": [],
   "source": [
    "#EX3-3\n",
    "# dest means Destination\n",
    "def Dest(list1):\n",
    "    \n",
    "    list2=[\"e\", \"n\", \"e\", \"e\", \"n\"]\n",
    "    list3=[\"w\", \"n\", \"w\", \"n\", \"w\", \"w\", \"n\"]\n",
    "    for i in list2 and list3:\n",
    "        if list2 == list1:\n",
    "            result = True\n",
    "        elif list3 == list1:\n",
    "            result = True\n",
    "        else:\n",
    "            result = False\n",
    "    \n",
    "    return result\n",
    "    \n",
    "        \n",
    "# this one not completed"
   ]
  },
  {
   "cell_type": "code",
   "execution_count": 29,
   "metadata": {},
   "outputs": [
    {
     "data": {
      "text/plain": [
       "False"
      ]
     },
     "execution_count": 29,
     "metadata": {},
     "output_type": "execute_result"
    }
   ],
   "source": [
    "Dest([\"s\", \"e\", \"e\", \"n\", \"n\", \"e\", \"n\"])"
   ]
  },
  {
   "cell_type": "code",
   "execution_count": 54,
   "metadata": {},
   "outputs": [],
   "source": [
    "#EX3-4\n",
    "def div(a,b,c):\n",
    "    \n",
    "    for i in range(b): a *= 2\n",
    "    \n",
    "    if a % c == 0:\n",
    "        result = True\n",
    "    else:\n",
    "        result = False\n",
    "\n",
    "        \n",
    "    return(result)"
   ]
  },
  {
   "cell_type": "code",
   "execution_count": 55,
   "metadata": {},
   "outputs": [
    {
     "data": {
      "text/plain": [
       "True"
      ]
     },
     "execution_count": 55,
     "metadata": {},
     "output_type": "execute_result"
    }
   ],
   "source": [
    "div(5, 2, 1)"
   ]
  },
  {
   "cell_type": "code",
   "execution_count": 74,
   "metadata": {},
   "outputs": [
    {
     "name": "stdout",
     "output_type": "stream",
     "text": [
      "True\n"
     ]
    }
   ],
   "source": [
    "#EX3-5\n",
    "def mile_marathon(list1):\n",
    "\t\n",
    "\tmarathon_length = 0\n",
    "\tfor i in list1:\n",
    "\t\tif i < 0:\n",
    "\t\t\ti *= -1\n",
    "\t\tmarathon_length += i\n",
    "\tif marathon_length == 25:\n",
    "\t\treturn True\n",
    "\telse:\n",
    "\t\treturn False\n",
    "\n",
    "\n",
    "print(mile_marathon([-6, 15, 4]))"
   ]
  },
  {
   "cell_type": "code",
   "execution_count": 77,
   "metadata": {},
   "outputs": [
    {
     "data": {
      "text/plain": [
       "':)'"
      ]
     },
     "execution_count": 77,
     "metadata": {},
     "output_type": "execute_result"
    }
   ],
   "source": [
    "#EX3-6\n",
    "def face_interval(int_list):\n",
    "    \n",
    "    interval = max(int_list) - min(int_list)\n",
    "    face = \"\"\n",
    "    for number in int_list:\n",
    "        if number == interval:\n",
    "            face = \":)\"\n",
    "        else:\n",
    "            face = \":(\"\n",
    "    return face\n",
    "\n",
    "face_interval([2, 32, 1, 6, 31])"
   ]
  }
 ],
 "metadata": {
  "kernelspec": {
   "display_name": "Python 3.11.0 64-bit",
   "language": "python",
   "name": "python3"
  },
  "language_info": {
   "codemirror_mode": {
    "name": "ipython",
    "version": 3
   },
   "file_extension": ".py",
   "mimetype": "text/x-python",
   "name": "python",
   "nbconvert_exporter": "python",
   "pygments_lexer": "ipython3",
   "version": "3.11.0"
  },
  "orig_nbformat": 4,
  "vscode": {
   "interpreter": {
    "hash": "de47f5c92c0ee6f12a59a5613ac5feff6aab19ddff207ba0b3964cced08c4ccc"
   }
  }
 },
 "nbformat": 4,
 "nbformat_minor": 2
}
