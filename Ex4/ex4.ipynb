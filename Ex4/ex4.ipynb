{
 "cells": [
  {
   "cell_type": "code",
   "execution_count": 11,
   "metadata": {},
   "outputs": [],
   "source": [
    "letters = ['a','b','c','d','e','f','g','h']\n",
    "lettersC = ['A','B','C','D','E','F','G','H']\n",
    "letters == lettersC\n",
    "numbers = [ 1, 2, 3, 4, 5, 6, 7, 8]\n",
    "movement = [[\"a\",1],['a',2],['a',3],['a',4],['a',5],['a',6],['a',7],['a',8],\n",
    "            [\"b\",1],['b',2],['b',3],['b',4],['b',5],['b',6],['b',7],['b',8],\n",
    "            [\"c\",1],['c',2],['c',3],['c',4],['c',5],['c',6],['c',7],['c',8],\n",
    "            [\"d\",1],['d',2],['d',3],['d',4],['d',5],['d',6],['d',7],['d',8],\n",
    "            [\"e\",1],['e',2],['e',3],['e',4],['e',5],['e',6],['e',7],['e',8],\n",
    "            [\"f\",1],['f',2],['f',3],['f',4],['f',5],['f',6],['f',7],['f',8],\n",
    "            [\"g\",1],['g',2],['g',3],['g',4],['g',5],['g',6],['g',7],['g',8],\n",
    "            [\"h\",1],['h',2],['h',3],['h',4],['h',5],['h',6],['h',7],['h',8]]\n",
    "\n",
    "MoB_B = [ [\"a\", 1], [\"b\", 2], [\"c\", 3], [\"d\", 4], [\"e\", 5], [\"f\", 6], [\"g\", 7], [\"h\", 8],\n",
    "        [\"a\", 3], [\"b\", 4], [\"c\", 5], [\"d\", 6], [\"e\", 7], [\"f\", 8],\n",
    "        [\"a\", 5], [\"b\", 6], [\"c\", 7], [\"d\", 8],\n",
    "        [\"a\", 7], [\"b\", 8],\n",
    "        [\"c\", 1], [\"d\", 2], [\"e\", 3], [\"f\", 4], [\"g\", 5], [\"h\", 6],\n",
    "        [\"e\", 1], [\"f\", 2], [\"g\", 3], [\"h\", 4],\n",
    "        [\"g\", 1], [\"h\", 2]]\n",
    "\n",
    "MoB_W = [[\"a\", 8], [\"b\", 7], [\"c\", 6], [\"d\", 5], [\"e\", 4], [\"f\", 3], [\"g\", 2], [\"h\", 1],\n",
    "         [\"a\", 6], [\"b\", 5], [\"c\", 4], [\"d\", 3], [\"e\", 2], [\"f\", 1],\n",
    "         [\"a\", 4], [\"b\", 3], [\"c\", 2], [\"d\", 1],\n",
    "         [\"a\", 2], [\"b\", 1],\n",
    "         [\"c\", 8], [\"d\", 7], [\"e\", 6], [\"f\", 5], [\"g\", 4], [\"h\", 3],\n",
    "         [\"e\", 8], [\"f\", 7], [\"g\", 6], [\"h\", 5],\n",
    "         [\"g\", 8], [\"h\", 7]]\n",
    "\n",
    "#a = input(\"Please enter horizontal position of the knight((a,b,c,d,e,f,g,h)):\")\n",
    "#b = input(\"Please enter vertical position of the knight((1,2,3,4,5,6,7,8)):\")\n",
    "#c = input(\"Please enter horizontal position of the bishop ((a,b,c,d,e,f,g,h)):\")\n",
    "#d = input(\"Please enter vertical position of the bishop ((1,2,3,4,5,6,7,8)):\")\n",
    "\n",
    "movement_of_knight = [a,b]\n",
    "movement_of_bishop = [c,d]\n",
    "\n",
    "\n",
    "\n",
    "\n",
    "\n",
    "\n",
    "\n"
   ]
  }
 ],
 "metadata": {
  "kernelspec": {
   "display_name": "Python 3.11.0 64-bit",
   "language": "python",
   "name": "python3"
  },
  "language_info": {
   "codemirror_mode": {
    "name": "ipython",
    "version": 3
   },
   "file_extension": ".py",
   "mimetype": "text/x-python",
   "name": "python",
   "nbconvert_exporter": "python",
   "pygments_lexer": "ipython3",
   "version": "3.11.0"
  },
  "orig_nbformat": 4,
  "vscode": {
   "interpreter": {
    "hash": "de47f5c92c0ee6f12a59a5613ac5feff6aab19ddff207ba0b3964cced08c4ccc"
   }
  }
 },
 "nbformat": 4,
 "nbformat_minor": 2
}
